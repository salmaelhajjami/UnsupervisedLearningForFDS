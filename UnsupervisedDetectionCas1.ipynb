{
 "cells": [
  {
   "cell_type": "markdown",
   "metadata": {},
   "source": [
    " ## Anomaly Detection in Credit Card Fraud  with different clustering algorithm.\n",
    " \n",
    " We can categorize machine learning algorithms into two main groups: supervised learning and unsupervised learning. With supervised learning algorithms, in order to predict unknown values for new data, we have to know the target value for many previously-seen examples. In contrast, unsupervised learning algorithms explore the data which has no target attribute to find some intrinsic structures in them.\n",
    "\n",
    " Clustering is a technique for finding similar groups in data, called clusters. Clustering is often called an unsupervised learning task as no class values denoting an a priori grouping of the data instances are given.\n",
    "\n",
    " ### The implementation is done using the DataFrame-based API of SparkMLlib.\n",
    " ### Algorithms:\n",
    "   - K-means\n",
    "   - Gaussian Mixture Model (GMM)\n",
    "   - Bisecting K-Means"
   ]
  },
  {
   "cell_type": "markdown",
   "metadata": {},
   "source": [
    "### 1)-Importing Packages"
   ]
  },
  {
   "cell_type": "code",
   "execution_count": 31,
   "metadata": {},
   "outputs": [
    {
     "data": {
      "application/vnd.jupyter.widget-view+json": {
       "model_id": "",
       "version_major": 2,
       "version_minor": 0
      },
      "text/plain": [
       "FloatProgress(value=0.0, bar_style='info', description='Progress:', layout=Layout(height='25px', width='50%'),…"
      ]
     },
     "metadata": {},
     "output_type": "display_data"
    },
    {
     "name": "stdout",
     "output_type": "stream",
     "text": [
      "import org.apache.spark._\n",
      "import org.apache.spark.sql._\n",
      "import org.apache.spark.rdd.RDD\n",
      "import org.apache.spark.sql.functions._\n",
      "import org.apache.spark.sql.{DataFrame, Row, SQLContext}\n",
      "import org.apache.spark.ml.clustering._\n",
      "import org.apache.spark.ml.evaluation.ClusteringEvaluator\n",
      "import org.apache.spark.ml.evaluation.{MulticlassClassificationEvaluator, BinaryClassificationEvaluator}\n",
      "import org.apache.spark.ml.feature.{StandardScaler, VectorAssembler, StringIndexer, MinMaxScaler}\n",
      "import org.apache.spark.ml.Pipeline\n",
      "import org.apache.spark.mllib.linalg.{Vector, Vectors}\n",
      "import java.io.{File, PrintWriter}\n",
      "import java.text.SimpleDateFormat\n",
      "import java.util.Calendar\n"
     ]
    }
   ],
   "source": [
    "import org.apache.spark._\n",
    "import org.apache.spark.sql._\n",
    "import org.apache.spark.rdd.RDD\n",
    "import org.apache.spark.sql.functions._\n",
    "import org.apache.spark.sql.{DataFrame, Row, SQLContext}\n",
    "//import org.apache.spark.ml.clustering.{KMeans, KMeansModel, GaussianMixture, GaussianMixtureModel, BisectingKMeans, BisectingKMeansModel}\n",
    "import org.apache.spark.ml.clustering._\n",
    "import org.apache.spark.ml.evaluation.ClusteringEvaluator\n",
    "import org.apache.spark.ml.evaluation.{MulticlassClassificationEvaluator,BinaryClassificationEvaluator}\n",
    "import org.apache.spark.ml.feature.{StandardScaler, VectorAssembler, StringIndexer, MinMaxScaler}\n",
    "import org.apache.spark.ml.{Pipeline}\n",
    "import org.apache.spark.mllib.linalg.{Vector, Vectors}\n",
    "import java.io.{File, PrintWriter}\n",
    "import java.text.SimpleDateFormat\n",
    "import java.util.Calendar"
   ]
  },
  {
   "cell_type": "markdown",
   "metadata": {},
   "source": [
    "### 2)-Load Dataset"
   ]
  },
  {
   "cell_type": "code",
   "execution_count": 32,
   "metadata": {},
   "outputs": [
    {
     "data": {
      "application/vnd.jupyter.widget-view+json": {
       "model_id": "",
       "version_major": 2,
       "version_minor": 0
      },
      "text/plain": [
       "FloatProgress(value=0.0, bar_style='info', description='Progress:', layout=Layout(height='25px', width='50%'),…"
      ]
     },
     "metadata": {},
     "output_type": "display_data"
    },
    {
     "name": "stdout",
     "output_type": "stream",
     "text": [
      "raw: org.apache.spark.sql.DataFrame = [Time: string, V1: string ... 29 more fields]\n"
     ]
    }
   ],
   "source": [
    "val raw = spark.read.format(\"csv\").option(\"header\", \"true\").option(\"mode\", \"DROPMALFORMED\").csv(\"datasets/creditcard.csv\")"
   ]
  },
  {
   "cell_type": "code",
   "execution_count": 33,
   "metadata": {},
   "outputs": [
    {
     "data": {
      "application/vnd.jupyter.widget-view+json": {
       "model_id": "",
       "version_major": 2,
       "version_minor": 0
      },
      "text/plain": [
       "FloatProgress(value=0.0, bar_style='info', description='Progress:', layout=Layout(height='25px', width='50%'),…"
      ]
     },
     "metadata": {},
     "output_type": "display_data"
    },
    {
     "name": "stdout",
     "output_type": "stream",
     "text": [
      "df: org.apache.spark.sql.DataFrame = [V1: double, V2: double ... 29 more fields]\n"
     ]
    }
   ],
   "source": [
    "// cast all the column to Double type.\n",
    "val df = raw.select(((1 to 28).map(i => \"V\" + i) ++ Array(\"Time\", \"Amount\", \"Class\")).map(s => col(s).cast(\"Double\")): _*)"
   ]
  },
  {
   "cell_type": "code",
   "execution_count": 34,
   "metadata": {},
   "outputs": [
    {
     "data": {
      "application/vnd.jupyter.widget-view+json": {
       "model_id": "",
       "version_major": 2,
       "version_minor": 0
      },
      "text/plain": [
       "FloatProgress(value=0.0, bar_style='info', description='Progress:', layout=Layout(height='25px', width='50%'),…"
      ]
     },
     "metadata": {},
     "output_type": "display_data"
    },
    {
     "name": "stdout",
     "output_type": "stream",
     "text": [
      "+------------------+-------------------+----+------+-----+\n",
      "|                V1|                 V2|Time|Amount|Class|\n",
      "+------------------+-------------------+----+------+-----+\n",
      "|  -1.3598071336738|-0.0727811733098497| 0.0|149.62|  0.0|\n",
      "|  1.19185711131486|   0.26615071205963| 0.0|  2.69|  0.0|\n",
      "| -1.35835406159823|  -1.34016307473609| 1.0|378.66|  0.0|\n",
      "|-0.966271711572087| -0.185226008082898| 1.0| 123.5|  0.0|\n",
      "| -1.15823309349523|  0.877736754848451| 2.0| 69.99|  0.0|\n",
      "|-0.425965884412454|  0.960523044882985| 2.0|  3.67|  0.0|\n",
      "|  1.22965763450793|  0.141003507049326| 4.0|  4.99|  0.0|\n",
      "|-0.644269442348146|   1.41796354547385| 7.0|  40.8|  0.0|\n",
      "| -0.89428608220282|  0.286157196276544| 7.0|  93.2|  0.0|\n",
      "| -0.33826175242575|   1.11959337641566| 9.0|  3.68|  0.0|\n",
      "|  1.44904378114715|  -1.17633882535966|10.0|   7.8|  0.0|\n",
      "|  0.38497821518095|  0.616109459176472|10.0|  9.99|  0.0|\n",
      "|    1.249998742053|  -1.22163680921816|10.0| 121.5|  0.0|\n",
      "|   1.0693735878819|  0.287722129331455|11.0|  27.5|  0.0|\n",
      "|  -2.7918547659339| -0.327770756658658|12.0|  58.8|  0.0|\n",
      "|-0.752417042956605|  0.345485415344747|12.0| 15.99|  0.0|\n",
      "|  1.10321543528383|-0.0402962145973447|12.0| 12.99|  0.0|\n",
      "|-0.436905071360625|  0.918966212909322|13.0|  0.89|  0.0|\n",
      "| -5.40125766315825|  -5.45014783420644|14.0|  46.8|  0.0|\n",
      "|   1.4929359769862|  -1.02934573189487|15.0|   5.0|  0.0|\n",
      "+------------------+-------------------+----+------+-----+\n",
      "only showing top 20 rows\n",
      "\n",
      " Class statistics: 1 represents fraud and 0 represents normal\n",
      "+-----+------+\n",
      "|Class| count|\n",
      "+-----+------+\n",
      "|  0.0|284315|\n",
      "|  1.0|   492|\n",
      "+-----+------+\n",
      "\n"
     ]
    }
   ],
   "source": [
    "// select a few columns to show.\n",
    "df.select(\"V1\", \"V2\", \"Time\", \"Amount\", \"Class\").show()\n",
    "println(\" Class statistics: 1 represents fraud and 0 represents normal\")\n",
    "df.groupBy(\"Class\").count().show()"
   ]
  },
  {
   "cell_type": "markdown",
   "metadata": {},
   "source": [
    "### 3)-Data Preparation for Training"
   ]
  },
  {
   "cell_type": "code",
   "execution_count": 35,
   "metadata": {},
   "outputs": [
    {
     "data": {
      "application/vnd.jupyter.widget-view+json": {
       "model_id": "",
       "version_major": 2,
       "version_minor": 0
      },
      "text/plain": [
       "FloatProgress(value=0.0, bar_style='info', description='Progress:', layout=Layout(height='25px', width='50%'),…"
      ]
     },
     "metadata": {},
     "output_type": "display_data"
    },
    {
     "name": "stdout",
     "output_type": "stream",
     "text": [
      "labelConverter: org.apache.spark.ml.feature.StringIndexer = strIdx_4eb457338627\n",
      "assembler: org.apache.spark.ml.feature.VectorAssembler = vecAssembler_1c69964497d2\n",
      "scaler: org.apache.spark.ml.feature.MinMaxScaler = minMaxScal_f286939561f0\n",
      "pipeline: org.apache.spark.ml.Pipeline = pipeline_db96c3ee1eff\n",
      "pipelineModel: org.apache.spark.ml.PipelineModel = pipeline_db96c3ee1eff\n",
      "data: org.apache.spark.sql.DataFrame = [V1: double, V2: double ... 32 more fields]\n",
      "Generate feature from raw data:\n",
      "+--------------------+-----+\n",
      "|            features|label|\n",
      "+--------------------+-----+\n",
      "|[0.93519233743373...|  0.0|\n",
      "|[0.97854195497169...|  0.0|\n",
      "|[0.93521702332994...|  0.0|\n",
      "|[0.94187801720890...|  0.0|\n",
      "|[0.93861683090479...|  0.0|\n",
      "|[0.95105714452038...|  0.0|\n",
      "|[0.97918413907815...|  0.0|\n",
      "|[0.94734843724736...|  0.0|\n",
      "|[0.94310096396120...|  0.0|\n",
      "|[0.95254712917866...|  0.0|\n",
      "|[0.98291123819341...|  0.0|\n",
      "|[0.96483408113384...|  0.0|\n",
      "|[0.97952970932083...|  0.0|\n",
      "|[0.97646111149632...|  0.0|\n",
      "|[0.91086362048888...|  0.0|\n",
      "|[0.94551114335839...|  0.0|\n",
      "|[0.97703604260041...|  0.0|\n",
      "|[0.95087130127266...|  0.0|\n",
      "|[0.86653309470779...|  0.0|\n",
      "|[0.98365691227897...|  0.0|\n",
      "+--------------------+-----+\n",
      "only showing top 20 rows\n",
      "\n"
     ]
    }
   ],
   "source": [
    "val labelConverter = new StringIndexer().setInputCol(\"Class\").setOutputCol(\"label\")\n",
    "val assembler = new VectorAssembler().setInputCols((1 to 28).map(i => \"V\" + i).toArray ++ Array(\"Amount\")).setOutputCol(\"assembled\")\n",
    "val scaler = new MinMaxScaler().setInputCol(\"assembled\").setOutputCol(\"features\")\n",
    "//val scaler = new StandardScaler().setInputCol(\"assembled\").setOutputCol(\"features\")\n",
    "val pipeline = new Pipeline().setStages(Array(assembler, scaler, labelConverter))\n",
    "val pipelineModel = pipeline.fit(df)\n",
    "val data = pipelineModel.transform(df)\n",
    "println(\"Generate feature from raw data:\")\n",
    "data.select(\"features\",\"label\").show()"
   ]
  },
  {
   "cell_type": "code",
   "execution_count": 36,
   "metadata": {},
   "outputs": [
    {
     "data": {
      "application/vnd.jupyter.widget-view+json": {
       "model_id": "",
       "version_major": 2,
       "version_minor": 0
      },
      "text/plain": [
       "FloatProgress(value=0.0, bar_style='info', description='Progress:', layout=Layout(height='25px', width='50%'),…"
      ]
     },
     "metadata": {},
     "output_type": "display_data"
    },
    {
     "name": "stdout",
     "output_type": "stream",
     "text": [
      "splitTime: Double = 132913.0\n",
      "trainingData: org.apache.spark.sql.Dataset[org.apache.spark.sql.Row] = [V1: double, V2: double ... 32 more fields]\n",
      "validationData: org.apache.spark.sql.Dataset[org.apache.spark.sql.Row] = [V1: double, V2: double ... 32 more fields]\n",
      "Split data into Training and Validation: \n",
      "training records count: 199337\n",
      "validation records count: 85470\n"
     ]
    }
   ],
   "source": [
    "// get the time to split the data.\n",
    "    val splitTime = data.stat.approxQuantile(\"Time\", Array(0.7), 0.001).head\n",
    "    val trainingData = data.filter(s\"Time<$splitTime\").cache()\n",
    "    val validationData = data.filter(s\"Time>=$splitTime\").cache()\n",
    "    println(\"Split data into Training and Validation: \")\n",
    "    println(\"training records count: \" + trainingData.count())\n",
    "    println(\"validation records count: \" + validationData.count())"
   ]
  },
  {
   "cell_type": "markdown",
   "metadata": {},
   "source": [
    "### 4)-Training the models"
   ]
  },
  {
   "cell_type": "code",
   "execution_count": 79,
   "metadata": {},
   "outputs": [
    {
     "data": {
      "application/vnd.jupyter.widget-view+json": {
       "model_id": "",
       "version_major": 2,
       "version_minor": 0
      },
      "text/plain": [
       "FloatProgress(value=0.0, bar_style='info', description='Progress:', layout=Layout(height='25px', width='50%'),…"
      ]
     },
     "metadata": {},
     "output_type": "display_data"
    },
    {
     "name": "stdout",
     "output_type": "stream",
     "text": [
      "kmeans: org.apache.spark.ml.clustering.KMeans = kmeans_c563b314953f\n",
      "bisectingkmeans: org.apache.spark.ml.clustering.BisectingKMeans = bisecting-kmeans_a91520f2600b\n",
      "gaussianMixture: org.apache.spark.ml.clustering.GaussianMixture = GaussianMixture_662b7810399c\n",
      "latentDirichletAllocation: org.apache.spark.ml.clustering.LDA = lda_a2ee372d8ff2\n"
     ]
    }
   ],
   "source": [
    "// Create a Kmeans Model with K=2\n",
    "// train the model\n",
    "val kmeans = new KMeans().setK(2).setFeaturesCol(\"features\").setPredictionCol(\"clusters\").setSeed(1L).setMaxIter(100).setInitMode(\"random\")\n",
    "val bisectingkmeans = new BisectingKMeans().setK(2).setFeaturesCol(\"features\").setPredictionCol(\"clusters\").setSeed(1L).setMaxIter(100)\n",
    "val gaussianMixture = new GaussianMixture().setK(2).setFeaturesCol(\"features\").setPredictionCol(\"clusters\").setSeed(1L).setMaxIter(100)\n",
    "val latentDirichletAllocation = new LDA().setK(2).setFeaturesCol(\"features\").setTopicDistributionCol(\"clusters\").setSeed(1L).setMaxIter(100)"
   ]
  },
  {
   "cell_type": "code",
   "execution_count": 80,
   "metadata": {},
   "outputs": [
    {
     "data": {
      "application/vnd.jupyter.widget-view+json": {
       "model_id": "",
       "version_major": 2,
       "version_minor": 0
      },
      "text/plain": [
       "FloatProgress(value=0.0, bar_style='info', description='Progress:', layout=Layout(height='25px', width='50%'),…"
      ]
     },
     "metadata": {},
     "output_type": "display_data"
    },
    {
     "name": "stdout",
     "output_type": "stream",
     "text": [
      "t: Long = 386419915606814\n",
      "modelKmeans: org.apache.spark.ml.clustering.KMeansModel = kmeans_c563b314953f\n",
      "durationkmeans: Double = 3.794129698\n",
      "\n",
      "initial model training finished.\n",
      "Training process takes 3.794129698 secs\n"
     ]
    }
   ],
   "source": [
    "// Fit that model to the training_data\n",
    "val t = System.nanoTime\n",
    "val modelKmeans = kmeans.fit(trainingData)\n",
    "val durationkmeans = (System.nanoTime - t) / 1e9d\n",
    "println(\"\\ninitial model training finished.\")\n",
    "println(s\"Training process takes $durationkmeans secs\")"
   ]
  },
  {
   "cell_type": "code",
   "execution_count": 81,
   "metadata": {},
   "outputs": [
    {
     "data": {
      "application/vnd.jupyter.widget-view+json": {
       "model_id": "",
       "version_major": 2,
       "version_minor": 0
      },
      "text/plain": [
       "FloatProgress(value=0.0, bar_style='info', description='Progress:', layout=Layout(height='25px', width='50%'),…"
      ]
     },
     "metadata": {},
     "output_type": "display_data"
    },
    {
     "name": "stdout",
     "output_type": "stream",
     "text": [
      "t: Long = 386425215362673\n",
      "modelBisectingkmeans: org.apache.spark.ml.clustering.BisectingKMeansModel = bisecting-kmeans_a91520f2600b\n",
      "durationbisectingkmeans: Double = 29.120097831\n",
      "\n",
      "initial model training finished.\n",
      "Training process takes 29.120097831 secs\n"
     ]
    }
   ],
   "source": [
    "// Fit that model to the training_data\n",
    "val t = System.nanoTime\n",
    "val modelBisectingkmeans = bisectingkmeans.fit(trainingData)\n",
    "val durationbisectingkmeans = (System.nanoTime - t) / 1e9d\n",
    "println(\"\\ninitial model training finished.\")\n",
    "println(s\"Training process takes $durationbisectingkmeans secs\")"
   ]
  },
  {
   "cell_type": "code",
   "execution_count": 82,
   "metadata": {},
   "outputs": [
    {
     "data": {
      "application/vnd.jupyter.widget-view+json": {
       "model_id": "",
       "version_major": 2,
       "version_minor": 0
      },
      "text/plain": [
       "FloatProgress(value=0.0, bar_style='info', description='Progress:', layout=Layout(height='25px', width='50%'),…"
      ]
     },
     "metadata": {},
     "output_type": "display_data"
    },
    {
     "name": "stdout",
     "output_type": "stream",
     "text": [
      "t: Long = 386455071015215\n",
      "modelGMM: org.apache.spark.ml.clustering.GaussianMixtureModel = GaussianMixture_662b7810399c\n",
      "durationGMM: Double = 12.003813243\n",
      "\n",
      "initial model training finished.\n",
      "Training process takes 12.003813243 secs\n"
     ]
    }
   ],
   "source": [
    "// Fit that model to the training_data\n",
    "val t = System.nanoTime\n",
    "val modelGMM = gaussianMixture.fit(trainingData)\n",
    "val durationGMM = (System.nanoTime - t) / 1e9d\n",
    "println(\"\\ninitial model training finished.\")\n",
    "println(s\"Training process takes $durationGMM secs\")"
   ]
  },
  {
   "cell_type": "code",
   "execution_count": 42,
   "metadata": {},
   "outputs": [
    {
     "data": {
      "application/vnd.jupyter.widget-view+json": {
       "model_id": "",
       "version_major": 2,
       "version_minor": 0
      },
      "text/plain": [
       "FloatProgress(value=0.0, bar_style='info', description='Progress:', layout=Layout(height='25px', width='50%'),…"
      ]
     },
     "metadata": {},
     "output_type": "display_data"
    },
    {
     "name": "stdout",
     "output_type": "stream",
     "text": [
      "[0.9564501581438364,0.7670070472196541,0.8431864112015065,0.25356960956854985,0.7648245082516371,0.26343767867739337,0.26512053486516435,0.7856784425752985,0.45766099456095577,0.5094514371143524,0.28733182490808207,0.7111406415035201,0.43788899637813633,0.6435538582576761,0.34836762361569834,0.44932254732063615,0.7306151152351633,0.6492562691026942,0.5632157453869857,0.5805278670538507,0.5613378874843741,0.5080302041835568,0.6651849071593796,0.3832449345220203,0.5817309198103178,0.4267484385877942,0.41653436472823563,0.31316365940424834,0.0035642678050799305]\n",
      "[0.9569450533394839,0.7698304008986779,0.8411419787351364,0.2701368635408002,0.7661454116190318,0.2638665402078969,0.2644086090727458,0.7846255836395395,0.5102360694912171,0.5001272139467199,0.34025897638354463,0.6181875908156352,0.5670861576072683,0.6843401355604942,0.29266938684380595,0.44778699232920227,0.7431149234118652,0.6643562149579135,0.554054459550227,0.5800332473325585,0.5604107487864989,0.5057333056144397,0.6653628140543573,0.37902628871816685,0.5777409377595363,0.4240350039998215,0.4165913624139267,0.3131553512167948,0.002884148255649426]\n"
     ]
    }
   ],
   "source": [
    "// see the centroid Kmeans \n",
    "modelKmeans.clusterCenters.foreach(centroid => println(centroid.toString))"
   ]
  },
  {
   "cell_type": "code",
   "execution_count": 43,
   "metadata": {},
   "outputs": [
    {
     "data": {
      "application/vnd.jupyter.widget-view+json": {
       "model_id": "",
       "version_major": 2,
       "version_minor": 0
      },
      "text/plain": [
       "FloatProgress(value=0.0, bar_style='info', description='Progress:', layout=Layout(height='25px', width='50%'),…"
      ]
     },
     "metadata": {},
     "output_type": "display_data"
    },
    {
     "name": "stdout",
     "output_type": "stream",
     "text": [
      "[0.9575854867599131,0.7675035459183824,0.8410462056376878,0.2519040093373025,0.7657193887745851,0.264456429329836,0.26504214702915024,0.7854869040242018,0.46604827916786856,0.5078811912413467,0.28687226352170453,0.6950910916485239,0.49801599798339413,0.6498568699659022,0.3361887429652741,0.44963331778691334,0.7324193822298208,0.6548286253978278,0.5643598002217111,0.5804740905369229,0.5611216342202008,0.5072761657105155,0.664989822634188,0.3066485035597651,0.5815909027872532,0.4288656648921024,0.4166154961329739,0.31312455627368496,0.0033574687413616892]\n",
      "[0.9559192470121537,0.7671880689574241,0.8440110567352116,0.2570894798649599,0.7645535724869306,0.2629588707731522,0.2650497667659248,0.7856143666382256,0.46149253730778955,0.5088163270246019,0.29596743930889985,0.705021666113527,0.4260954755797099,0.6466355435024234,0.34607607979483657,0.44891236537502766,0.7316279523846115,0.6486588244479086,0.5611496449949587,0.5804783326357015,0.5613070030666977,0.508070852044658,0.6653178109298407,0.42368701385144736,0.581173656976116,0.42518200401024825,0.41649985412729595,0.31318332993617104,0.003567461703125215]\n"
     ]
    }
   ],
   "source": [
    "// see the centroid Bisecting Kmeans \n",
    "modelBisectingkmeans.clusterCenters.foreach(centroid => println(centroid.toString))"
   ]
  },
  {
   "cell_type": "code",
   "execution_count": 44,
   "metadata": {},
   "outputs": [
    {
     "data": {
      "application/vnd.jupyter.widget-view+json": {
       "model_id": "",
       "version_major": 2,
       "version_minor": 0
      },
      "text/plain": [
       "FloatProgress(value=0.0, bar_style='info', description='Progress:', layout=Layout(height='25px', width='50%'),…"
      ]
     },
     "metadata": {},
     "output_type": "display_data"
    },
    {
     "name": "stdout",
     "output_type": "stream",
     "text": [
      "Gaussian 0:\n",
      "weight=0.7276277748979864\n",
      "mu=[0.9613884460140616,0.7689213570761666,0.8466957146572097,0.2659721068087794,0.7649434140421982,0.26122096797075534,0.2658291403386824,0.7859144452487762,0.46782749938133134,0.5043834886088266,0.29462632167402686,0.7035277382525145,0.448237678315879,0.6504139516087736,0.34119711037354933,0.45342401432066615,0.7307110905731787,0.6398216035111878,0.567644848294621,0.5804300820847669,0.5614538180518653,0.511193645311341,0.6649753987009894,0.37566130819332716,0.5809384481053492,0.4272110295677354,0.41666740821876175,0.3133929744095242,0.002440721106950736]\n",
      "sigma=\n",
      "5.862911849182776E-4    -2.4963495957948885E-5  ... (29 total)\n",
      "-2.4963495957948885E-5  1.283150221808733E-4    ...\n",
      "-1.475308292525393E-4   2.0540162927171236E-5   ...\n",
      "8.374748635325824E-5    4.539507606832936E-5    ...\n",
      "-1.2326492837605438E-5  9.167962450530916E-6    ...\n",
      "-1.0729461023994617E-5  -4.610594163520005E-6   ...\n",
      "-1.1172386657141029E-5  8.761299631826291E-6    ...\n",
      "-1.4469253071627974E-5  -9.109532396342319E-7   ...\n",
      "1.920183215685222E-4    -1.2130466322394697E-4  ...\n",
      "9.874204603234852E-5    -1.709473627036332E-5   ...\n",
      "1.1936997183066057E-5   -1.3806770057292339E-5  ...\n",
      "4.8929168346456504E-5   -3.868033991726773E-5   ...\n",
      "5.872013583787396E-5    8.061181901688033E-5    ...\n",
      "4.162792522791676E-5    1.23048132273162E-5     ...\n",
      "5.6953373316992115E-5   3.0158415011225314E-5   ...\n",
      "7.383643553373848E-5    -4.3748555494666225E-5  ...\n",
      "3.0425582737395276E-5   -2.286500353002149E-5   ...\n",
      "-2.2771423071297284E-5  6.985477858890484E-5    ...\n",
      "-3.973297915089707E-5   -2.7729583019218405E-5  ...\n",
      "-6.289878645815152E-7   -5.0082735099424354E-6  ...\n",
      "3.854449746505601E-6    -7.592671606474501E-6   ...\n",
      "-3.6083642167764405E-5  -3.1676178390094315E-5  ...\n",
      "6.183966841749287E-6    -1.1897544806397791E-7  ...\n",
      "-3.55552143770533E-6    2.5330786452849922E-5   ...\n",
      "1.1273049713833377E-4   -3.896545921877709E-5   ...\n",
      "-5.663496384093263E-6   -3.097718440646593E-5   ...\n",
      "-6.2755866321394186E-6  3.99953881937149E-7     ...\n",
      "-1.8927229070542246E-6  1.2776901431064017E-6   ...\n",
      "-2.8546923945977657E-5  -3.714388619449433E-5   ...\n",
      "\n",
      "Gaussian 1:\n",
      "weight=0.2723722251020136\n",
      "mu=[0.9434451941646184,0.7629622188069911,0.8330373097486378,0.22671069192778456,0.7650070575097689,0.26952190359482786,0.26295794132742845,0.7846492774781605,0.4504108524182296,0.5194592925620278,0.2878874224239991,0.696278642119096,0.4591674298387491,0.6406724348846394,0.3464314561802498,0.4377842144786325,0.7350921496904822,0.6801785192212405,0.5479144390180974,0.5806017917500732,0.5606770963116143,0.4987094515044185,0.6658119675406526,0.40190666825969457,0.5823370389987446,0.42448512820053913,0.41620053007066843,0.3125479105357843,0.00630821480852632]\n",
      "sigma=\n",
      "0.0019888642774886544   -2.3615021662003947E-5  ... (29 total)\n",
      "-2.3615021662003947E-5  7.064986175275671E-4    ...\n",
      "3.63572017023211E-4     -1.7668056270748973E-4  ...\n",
      "-8.797731545513081E-4   -1.6696482906609417E-4  ...\n",
      "4.284239392867832E-5    -4.0847445684620134E-5  ...\n",
      "1.775832196972521E-4    5.8030749856914834E-5   ...\n",
      "3.9246499749956265E-5   -3.9671299128711005E-5  ...\n",
      "3.456137320990121E-5    -1.3307088977251522E-5  ...\n",
      "-7.732821836199651E-4   2.420724774391926E-4    ...\n",
      "-6.385315409045657E-5   1.2141994009356752E-4   ...\n",
      "-1.4532154443684794E-4  9.732490760037325E-5    ...\n",
      "-2.4783722918580563E-4  -1.762268760304888E-6   ...\n",
      "9.418504626061655E-5    -4.349096081257965E-5   ...\n",
      "-8.378485100152269E-5   -8.540333150275535E-5   ...\n",
      "3.0317358229646675E-5   8.288511232034602E-5    ...\n",
      "-3.0838996093828506E-4  5.6178599882775625E-5   ...\n",
      "7.761579654958577E-5    1.7384698595425552E-5   ...\n",
      "6.440421036712299E-4    -6.508482833480114E-5   ...\n",
      "-1.338774382997433E-4   -8.521737853321965E-8   ...\n",
      "-3.179363163317897E-5   -8.143698084096857E-6   ...\n",
      "-2.9489867664078615E-5  3.4525566005953035E-6   ...\n",
      "-1.1232186009305195E-4  -2.2905785533749857E-7  ...\n",
      "-5.5629560437326984E-5  7.060159811733283E-7    ...\n",
      "3.100100219401499E-4    2.2591119552062824E-5   ...\n",
      "-5.8783920650150255E-5  5.293269090760647E-5    ...\n",
      "-3.990655056591442E-5   6.559170452098803E-7    ...\n",
      "2.0138063696935377E-6   -5.403465217110536E-6   ...\n",
      "4.21692018802503E-5     -4.728033544876829E-6   ...\n",
      "-1.3854161494153595E-4  -2.1590805766496084E-4  ...\n",
      "\n"
     ]
    }
   ],
   "source": [
    "// output parameters of gaussian mixture model \n",
    "for (i <- 0 until modelGMM.getK) {\n",
    "  println(s\"Gaussian $i:\\nweight=${modelGMM.weights(i)}\\n\" +\n",
    "      s\"mu=${modelGMM.gaussians(i).mean}\\nsigma=\\n${modelGMM.gaussians(i).cov}\\n\")\n",
    "}"
   ]
  },
  {
   "cell_type": "markdown",
   "metadata": {},
   "source": [
    "### 5)- Prediction"
   ]
  },
  {
   "cell_type": "code",
   "execution_count": 84,
   "metadata": {},
   "outputs": [
    {
     "data": {
      "application/vnd.jupyter.widget-view+json": {
       "model_id": "",
       "version_major": 2,
       "version_minor": 0
      },
      "text/plain": [
       "FloatProgress(value=0.0, bar_style='info', description='Progress:', layout=Layout(height='25px', width='50%'),…"
      ]
     },
     "metadata": {},
     "output_type": "display_data"
    },
    {
     "name": "stdout",
     "output_type": "stream",
     "text": [
      "t: Long = 386545412230882\n",
      "predictionsk: org.apache.spark.sql.DataFrame = [V1: double, V2: double ... 33 more fields]\n",
      "durationkmeans: Double = 0.254539203\n",
      "\n",
      "initial model training finished.\n",
      "Training process takes 0.254539203 secs\n",
      "predictionsk: org.apache.spark.sql.DataFrame = [label: double, clusters: double ... 1 more field]\n",
      "+--------+-----+\n",
      "|clusters|count|\n",
      "+--------+-----+\n",
      "|     0.0|85099|\n",
      "|     1.0|  371|\n",
      "+--------+-----+\n",
      "\n",
      "+-----+--------+--------------------+\n",
      "|label|clusters|            features|\n",
      "+-----+--------+--------------------+\n",
      "|  0.0|     0.0|[0.93393055100879...|\n",
      "|  0.0|     0.0|[0.99373239366538...|\n",
      "|  0.0|     0.0|[0.99412599523130...|\n",
      "|  0.0|     0.0|[0.99168700342760...|\n",
      "|  0.0|     0.0|[0.99303996117885...|\n",
      "|  0.0|     0.0|[0.99358866187046...|\n",
      "|  0.0|     0.0|[0.99399681197689...|\n",
      "|  0.0|     0.0|[0.99387845478437...|\n",
      "|  0.0|     0.0|[0.94168288462400...|\n",
      "|  0.0|     0.0|[0.90792673663724...|\n",
      "+-----+--------+--------------------+\n",
      "only showing top 10 rows\n",
      "\n"
     ]
    }
   ],
   "source": [
    " // Make predictions Kmeans\n",
    "val t = System.nanoTime\n",
    "var predictionsk = modelKmeans.transform(validationData)\n",
    "val durationkmeans = (System.nanoTime - t) / 1e9d\n",
    "println(\"\\ninitial model training finished.\")\n",
    "println(s\"Training process takes $durationkmeans secs\")\n",
    "predictionsk = predictionsk.select(col(\"label\"),col(\"clusters\").cast(\"Double\"),col(\"features\"))\n",
    "//val df = raw.select(((1 to 28).map(i => \"V\" + i) ++ Array(\"Time\", \"Amount\", \"Class\")).map(s => col(s).cast(\"Double\")): _*)\n",
    "predictionsk.groupBy(\"clusters\").count().show()\n",
    "//predictionsk.groupBy(\"label\").count().show()\n",
    "predictionsk.show(10)"
   ]
  },
  {
   "cell_type": "code",
   "execution_count": 85,
   "metadata": {},
   "outputs": [
    {
     "data": {
      "application/vnd.jupyter.widget-view+json": {
       "model_id": "",
       "version_major": 2,
       "version_minor": 0
      },
      "text/plain": [
       "FloatProgress(value=0.0, bar_style='info', description='Progress:', layout=Layout(height='25px', width='50%'),…"
      ]
     },
     "metadata": {},
     "output_type": "display_data"
    },
    {
     "name": "stdout",
     "output_type": "stream",
     "text": [
      "+--------+-----+-----+\n",
      "|clusters|label|count|\n",
      "+--------+-----+-----+\n",
      "|     0.0|  0.0|85010|\n",
      "|     1.0|  0.0|  352|\n",
      "|     0.0|  1.0|   89|\n",
      "|     1.0|  1.0|   19|\n",
      "+--------+-----+-----+\n",
      "\n"
     ]
    }
   ],
   "source": [
    "predictionsk.select(\"clusters\", \"label\").groupBy(\"clusters\", \"label\").count().orderBy(\"label\", \"clusters\").show()"
   ]
  },
  {
   "cell_type": "code",
   "execution_count": 86,
   "metadata": {},
   "outputs": [
    {
     "data": {
      "application/vnd.jupyter.widget-view+json": {
       "model_id": "",
       "version_major": 2,
       "version_minor": 0
      },
      "text/plain": [
       "FloatProgress(value=0.0, bar_style='info', description='Progress:', layout=Layout(height='25px', width='50%'),…"
      ]
     },
     "metadata": {},
     "output_type": "display_data"
    },
    {
     "name": "stdout",
     "output_type": "stream",
     "text": [
      "t: Long = 386548399977406\n",
      "predictionsbk: org.apache.spark.sql.DataFrame = [V1: double, V2: double ... 33 more fields]\n",
      "durationkmeans: Double = 0.257309219\n",
      "\n",
      "initial model training finished.\n",
      "Training process takes 0.257309219 secs\n",
      "predictionsbk: org.apache.spark.sql.DataFrame = [label: double, clusters: double ... 1 more field]\n",
      "+--------+-----+\n",
      "|clusters|count|\n",
      "+--------+-----+\n",
      "|     0.0|32278|\n",
      "|     1.0|53192|\n",
      "+--------+-----+\n",
      "\n",
      "+-----+-----+\n",
      "|label|count|\n",
      "+-----+-----+\n",
      "|  0.0|85362|\n",
      "|  1.0|  108|\n",
      "+-----+-----+\n",
      "\n"
     ]
    }
   ],
   "source": [
    " // Make predictions Bisecting Kmeans \n",
    "val t = System.nanoTime\n",
    "var predictionsbk = modelBisectingkmeans.transform(validationData)\n",
    "val durationkmeans = (System.nanoTime - t) / 1e9d\n",
    "println(\"\\ninitial model training finished.\")\n",
    "println(s\"Training process takes $durationkmeans secs\")\n",
    "predictionsbk = predictionsbk.select(col(\"label\"),col(\"clusters\").cast(\"Double\"),col(\"features\"))\n",
    "predictionsbk.groupBy(\"clusters\").count().show()\n",
    "predictionsbk.groupBy(\"label\").count().show()"
   ]
  },
  {
   "cell_type": "code",
   "execution_count": 87,
   "metadata": {},
   "outputs": [
    {
     "data": {
      "application/vnd.jupyter.widget-view+json": {
       "model_id": "",
       "version_major": 2,
       "version_minor": 0
      },
      "text/plain": [
       "FloatProgress(value=0.0, bar_style='info', description='Progress:', layout=Layout(height='25px', width='50%'),…"
      ]
     },
     "metadata": {},
     "output_type": "display_data"
    },
    {
     "name": "stdout",
     "output_type": "stream",
     "text": [
      "+--------+-----+-----+\n",
      "|clusters|label|count|\n",
      "+--------+-----+-----+\n",
      "|     0.0|  0.0|32242|\n",
      "|     1.0|  0.0|53120|\n",
      "|     0.0|  1.0|   36|\n",
      "|     1.0|  1.0|   72|\n",
      "+--------+-----+-----+\n",
      "\n"
     ]
    }
   ],
   "source": [
    "predictionsbk.select(\"clusters\", \"label\").groupBy(\"clusters\", \"label\").count().orderBy(\"label\", \"clusters\").show()"
   ]
  },
  {
   "cell_type": "code",
   "execution_count": 88,
   "metadata": {},
   "outputs": [
    {
     "data": {
      "application/vnd.jupyter.widget-view+json": {
       "model_id": "",
       "version_major": 2,
       "version_minor": 0
      },
      "text/plain": [
       "FloatProgress(value=0.0, bar_style='info', description='Progress:', layout=Layout(height='25px', width='50%'),…"
      ]
     },
     "metadata": {},
     "output_type": "display_data"
    },
    {
     "name": "stdout",
     "output_type": "stream",
     "text": [
      "t: Long = 386551384307298\n",
      "predictionsgmm: org.apache.spark.sql.DataFrame = [V1: double, V2: double ... 34 more fields]\n",
      "durationkmeans: Double = 0.278146472\n",
      "\n",
      "initial model training finished.\n",
      "Training process takes 0.278146472 secs\n",
      "predictionsgmm: org.apache.spark.sql.DataFrame = [label: double, clusters: double ... 1 more field]\n",
      "+--------+-----+\n",
      "|clusters|count|\n",
      "+--------+-----+\n",
      "|     0.0|61288|\n",
      "|     1.0|24182|\n",
      "+--------+-----+\n",
      "\n",
      "+-----+-----+\n",
      "|label|count|\n",
      "+-----+-----+\n",
      "|  0.0|85362|\n",
      "|  1.0|  108|\n",
      "+-----+-----+\n",
      "\n"
     ]
    }
   ],
   "source": [
    "// Make predictions Bisecting Kmeans \n",
    "val t = System.nanoTime\n",
    "var predictionsgmm = modelGMM.transform(validationData)\n",
    "val durationkmeans = (System.nanoTime - t) / 1e9d\n",
    "println(\"\\ninitial model training finished.\")\n",
    "println(s\"Training process takes $durationkmeans secs\")\n",
    "predictionsgmm = predictionsgmm.select(col(\"label\"),col(\"clusters\").cast(\"Double\"),col(\"features\"))\n",
    "predictionsgmm.groupBy(\"clusters\").count().show()\n",
    "predictionsgmm.groupBy(\"label\").count().show()"
   ]
  },
  {
   "cell_type": "code",
   "execution_count": 89,
   "metadata": {},
   "outputs": [
    {
     "data": {
      "application/vnd.jupyter.widget-view+json": {
       "model_id": "",
       "version_major": 2,
       "version_minor": 0
      },
      "text/plain": [
       "FloatProgress(value=0.0, bar_style='info', description='Progress:', layout=Layout(height='25px', width='50%'),…"
      ]
     },
     "metadata": {},
     "output_type": "display_data"
    },
    {
     "name": "stdout",
     "output_type": "stream",
     "text": [
      "+--------+-----+-----+\n",
      "|clusters|label|count|\n",
      "+--------+-----+-----+\n",
      "|     0.0|  0.0|61276|\n",
      "|     1.0|  0.0|24086|\n",
      "|     0.0|  1.0|   12|\n",
      "|     1.0|  1.0|   96|\n",
      "+--------+-----+-----+\n",
      "\n"
     ]
    }
   ],
   "source": [
    "predictionsgmm.select(\"clusters\", \"label\").groupBy(\"clusters\", \"label\").count().orderBy(\"label\", \"clusters\").show()"
   ]
  },
  {
   "cell_type": "markdown",
   "metadata": {},
   "source": [
    "### 6)-Evaluation"
   ]
  },
  {
   "cell_type": "markdown",
   "metadata": {},
   "source": [
    " ##### Calculation of Silhouette Score"
   ]
  },
  {
   "cell_type": "code",
   "execution_count": 53,
   "metadata": {},
   "outputs": [
    {
     "data": {
      "application/vnd.jupyter.widget-view+json": {
       "model_id": "",
       "version_major": 2,
       "version_minor": 0
      },
      "text/plain": [
       "FloatProgress(value=0.0, bar_style='info', description='Progress:', layout=Layout(height='25px', width='50%'),…"
      ]
     },
     "metadata": {},
     "output_type": "display_data"
    },
    {
     "name": "stdout",
     "output_type": "stream",
     "text": [
      "evaluatorsi: org.apache.spark.ml.evaluation.ClusteringEvaluator = cluEval_4eed8dfb263c\n"
     ]
    }
   ],
   "source": [
    "// Evaluate clustering by computing Silhouette score\n",
    "val evaluatorsi = new ClusteringEvaluator().setPredictionCol(\"clusters\").setMetricName(\"silhouette\")"
   ]
  },
  {
   "cell_type": "code",
   "execution_count": 54,
   "metadata": {},
   "outputs": [
    {
     "data": {
      "application/vnd.jupyter.widget-view+json": {
       "model_id": "",
       "version_major": 2,
       "version_minor": 0
      },
      "text/plain": [
       "FloatProgress(value=0.0, bar_style='info', description='Progress:', layout=Layout(height='25px', width='50%'),…"
      ]
     },
     "metadata": {},
     "output_type": "display_data"
    },
    {
     "name": "stdout",
     "output_type": "stream",
     "text": [
      "ScoreKmeans: Double = 0.6394809448118279\n",
      "Silhouette of Kmeans predictions with squared euclidean distance = 0.6394809448118279\n"
     ]
    }
   ],
   "source": [
    "val ScoreKmeans = evaluatorsi.evaluate(predictionsk)\n",
    "println(s\"Silhouette of Kmeans predictions with squared euclidean distance = $ScoreKmeans\")"
   ]
  },
  {
   "cell_type": "code",
   "execution_count": 55,
   "metadata": {},
   "outputs": [
    {
     "data": {
      "application/vnd.jupyter.widget-view+json": {
       "model_id": "",
       "version_major": 2,
       "version_minor": 0
      },
      "text/plain": [
       "FloatProgress(value=0.0, bar_style='info', description='Progress:', layout=Layout(height='25px', width='50%'),…"
      ]
     },
     "metadata": {},
     "output_type": "display_data"
    },
    {
     "name": "stdout",
     "output_type": "stream",
     "text": [
      "ScoreBisectingKmeans: Double = 0.17617461529914036\n",
      "Silhouette of Bisecting Kmeans predictions with squared euclidean distance = 0.17617461529914036\n"
     ]
    }
   ],
   "source": [
    "val ScoreBisectingKmeans  = evaluatorsi.evaluate(predictionsbk)\n",
    "println(s\"Silhouette of Bisecting Kmeans predictions with squared euclidean distance = $ScoreBisectingKmeans\")"
   ]
  },
  {
   "cell_type": "code",
   "execution_count": 56,
   "metadata": {},
   "outputs": [
    {
     "data": {
      "application/vnd.jupyter.widget-view+json": {
       "model_id": "",
       "version_major": 2,
       "version_minor": 0
      },
      "text/plain": [
       "FloatProgress(value=0.0, bar_style='info', description='Progress:', layout=Layout(height='25px', width='50%'),…"
      ]
     },
     "metadata": {},
     "output_type": "display_data"
    },
    {
     "name": "stdout",
     "output_type": "stream",
     "text": [
      "ScoreGMM: Double = 0.12012752377918906\n",
      "Silhouette of Gaussian Mixture predictions with squared euclidean distance = 0.12012752377918906\n"
     ]
    }
   ],
   "source": [
    "val ScoreGMM  = evaluatorsi.evaluate(predictionsgmm)\n",
    "println(s\"Silhouette of Gaussian Mixture predictions with squared euclidean distance = $ScoreGMM\")"
   ]
  },
  {
   "cell_type": "code",
   "execution_count": 57,
   "metadata": {},
   "outputs": [
    {
     "data": {
      "application/vnd.jupyter.widget-view+json": {
       "model_id": "",
       "version_major": 2,
       "version_minor": 0
      },
      "text/plain": [
       "FloatProgress(value=0.0, bar_style='info', description='Progress:', layout=Layout(height='25px', width='50%'),…"
      ]
     },
     "metadata": {},
     "output_type": "display_data"
    },
    {
     "name": "stdout",
     "output_type": "stream",
     "text": [
      "warning: there was one deprecation warning; re-run with -deprecation for details\n",
      "costKmeans: Double = 9379.74165072235\n",
      "Kmeans: Within Set Sum of Squared Errors = 9379.74165072235\n",
      "costBisectingKmeans: Double = 9180.032693362762\n",
      "Bisecting Kmeans: Within Set Sum of Squared Errors = 9180.032693362762\n",
      "costBisectingKmeans: Double = 9180.032693362764\n",
      "Bisecting Kmeans: Within Set Sum of Squared Errors = 9180.032693362764\n"
     ]
    }
   ],
   "source": [
    "// Evaluate clustering.\n",
    "val costKmeans = modelKmeans.computeCost(trainingData)\n",
    "println(s\"Kmeans: Within Set Sum of Squared Errors = $costKmeans\")\n",
    "val costBisectingKmeans = modelBisectingkmeans.computeCost(trainingData)\n",
    "println(s\"Bisecting Kmeans: Within Set Sum of Squared Errors = $costBisectingKmeans\")\n",
    "val costBisectingKmeans = modelBisectingkmeans.computeCost(trainingData)\n",
    "println(s\"Bisecting Kmeans: Within Set Sum of Squared Errors = $costBisectingKmeans\")"
   ]
  },
  {
   "cell_type": "code",
   "execution_count": 58,
   "metadata": {},
   "outputs": [
    {
     "data": {
      "application/vnd.jupyter.widget-view+json": {
       "model_id": "",
       "version_major": 2,
       "version_minor": 0
      },
      "text/plain": [
       "FloatProgress(value=0.0, bar_style='info', description='Progress:', layout=Layout(height='25px', width='50%'),…"
      ]
     },
     "metadata": {},
     "output_type": "display_data"
    },
    {
     "name": "stdout",
     "output_type": "stream",
     "text": [
      "evaluatork1: org.apache.spark.ml.evaluation.MulticlassClassificationEvaluator = mcEval_08126be7cd4d\n",
      "evaluatork2: org.apache.spark.ml.evaluation.MulticlassClassificationEvaluator = mcEval_f720d9e02002\n",
      "evaluatork3: org.apache.spark.ml.evaluation.MulticlassClassificationEvaluator = mcEval_a8f70fee349e\n",
      "evaluatork4: org.apache.spark.ml.evaluation.MulticlassClassificationEvaluator = mcEval_9e718753f1c9\n",
      "areaUnderROCk: org.apache.spark.ml.evaluation.BinaryClassificationEvaluator = binEval_49486d50c3e2\n",
      "accuracyk: Double = 0.9948402948402948\n",
      "Area Under ROC Curve = 0.5859011556013736\n",
      "Accuracy = 0.9948402948402948\n",
      "Precision = 0.9977565922685557\n",
      "Recall = 0.9948402948402948\n",
      "F1 = 0.9962528097083098\n",
      "Test Error = 0.005159705159705208\n"
     ]
    }
   ],
   "source": [
    "val evaluatork1 = new MulticlassClassificationEvaluator().setLabelCol(\"label\").setPredictionCol(\"clusters\").setMetricName(\"accuracy\")\n",
    "val evaluatork2 = new MulticlassClassificationEvaluator().setLabelCol(\"label\").setPredictionCol(\"clusters\").setMetricName(\"weightedPrecision\")\n",
    "val evaluatork3 = new MulticlassClassificationEvaluator().setLabelCol(\"label\").setPredictionCol(\"clusters\").setMetricName(\"weightedRecall\")\n",
    "val evaluatork4 = new MulticlassClassificationEvaluator().setLabelCol(\"label\").setPredictionCol(\"clusters\").setMetricName(\"f1\")\n",
    "val areaUnderROCk = new BinaryClassificationEvaluator().setRawPredictionCol(\"clusters\").setLabelCol(\"label\").setMetricName(\"areaUnderROC\")\n",
    "val accuracyk = evaluatork1.evaluate(predictionsk)\n",
    "println(\"Area Under ROC Curve = \" + areaUnderROCk.evaluate(predictionsk))\n",
    "println(\"Accuracy = \" + evaluatork1.evaluate(predictionsk))\n",
    "println(\"Precision = \" + evaluatork2.evaluate(predictionsk))\n",
    "println(\"Recall = \" + evaluatork3.evaluate(predictionsk))\n",
    "println(\"F1 = \" + evaluatork4.evaluate(predictionsk))\n",
    "println(\"Test Error = \" + (1.0 - accuracyk))"
   ]
  },
  {
   "cell_type": "code",
   "execution_count": 59,
   "metadata": {},
   "outputs": [
    {
     "data": {
      "application/vnd.jupyter.widget-view+json": {
       "model_id": "",
       "version_major": 2,
       "version_minor": 0
      },
      "text/plain": [
       "FloatProgress(value=0.0, bar_style='info', description='Progress:', layout=Layout(height='25px', width='50%'),…"
      ]
     },
     "metadata": {},
     "output_type": "display_data"
    },
    {
     "name": "stdout",
     "output_type": "stream",
     "text": [
      "evaluatorbk1: org.apache.spark.ml.evaluation.MulticlassClassificationEvaluator = mcEval_c017e2f0673e\n",
      "evaluatorbk2: org.apache.spark.ml.evaluation.MulticlassClassificationEvaluator = mcEval_e5f35a808b6c\n",
      "evaluatorbk3: org.apache.spark.ml.evaluation.MulticlassClassificationEvaluator = mcEval_b7a1e9d0c97f\n",
      "evaluatorbk4: org.apache.spark.ml.evaluation.MulticlassClassificationEvaluator = mcEval_c2cb095e7c45\n",
      "areaUnderROCbk: org.apache.spark.ml.evaluation.BinaryClassificationEvaluator = binEval_a64525af43ae\n",
      "accuracybk: Double = 0.3780741780741781\n",
      "Area Under ROC Curve = 0.5221878587661957\n",
      "Accuracy = 0.3780741780741781\n",
      "Precision = 0.9976242077007433\n",
      "Recall = 0.3780741780741781\n",
      "F1 = 0.5474576635690576\n",
      "Test Error = 0.6219258219258219\n"
     ]
    }
   ],
   "source": [
    "val evaluatorbk1 = new MulticlassClassificationEvaluator().setLabelCol(\"label\").setPredictionCol(\"clusters\").setMetricName(\"accuracy\")\n",
    "val evaluatorbk2 = new MulticlassClassificationEvaluator().setLabelCol(\"label\").setPredictionCol(\"clusters\").setMetricName(\"weightedPrecision\")\n",
    "val evaluatorbk3 = new MulticlassClassificationEvaluator().setLabelCol(\"label\").setPredictionCol(\"clusters\").setMetricName(\"weightedRecall\")\n",
    "val evaluatorbk4 = new MulticlassClassificationEvaluator().setLabelCol(\"label\").setPredictionCol(\"clusters\").setMetricName(\"f1\")\n",
    "val areaUnderROCbk = new BinaryClassificationEvaluator().setRawPredictionCol(\"clusters\").setLabelCol(\"label\").setMetricName(\"areaUnderROC\")\n",
    "val accuracybk = evaluatorbk1.evaluate(predictionsbk)\n",
    "println(\"Area Under ROC Curve = \" + areaUnderROCbk.evaluate(predictionsbk))\n",
    "println(\"Accuracy = \" + evaluatorbk1.evaluate(predictionsbk))\n",
    "println(\"Precision = \" + evaluatorbk2.evaluate(predictionsbk))\n",
    "println(\"Recall = \" + evaluatorbk3.evaluate(predictionsbk))\n",
    "println(\"F1 = \" + evaluatorbk4.evaluate(predictionsbk))\n",
    "println(\"Test Error = \" + (1.0 - accuracybk))"
   ]
  },
  {
   "cell_type": "code",
   "execution_count": 60,
   "metadata": {},
   "outputs": [
    {
     "data": {
      "application/vnd.jupyter.widget-view+json": {
       "model_id": "",
       "version_major": 2,
       "version_minor": 0
      },
      "text/plain": [
       "FloatProgress(value=0.0, bar_style='info', description='Progress:', layout=Layout(height='25px', width='50%'),…"
      ]
     },
     "metadata": {},
     "output_type": "display_data"
    },
    {
     "name": "stdout",
     "output_type": "stream",
     "text": [
      "evaluatorgmm1: org.apache.spark.ml.evaluation.MulticlassClassificationEvaluator = mcEval_0799d5ec3644\n",
      "evaluatorgmm2: org.apache.spark.ml.evaluation.MulticlassClassificationEvaluator = mcEval_1706c2a24e8d\n",
      "evaluatorgmm3: org.apache.spark.ml.evaluation.MulticlassClassificationEvaluator = mcEval_1514125131f6\n",
      "evaluatorgmm4: org.apache.spark.ml.evaluation.MulticlassClassificationEvaluator = mcEval_792a4b9b0f07\n",
      "areaUnderROCgmm: org.apache.spark.ml.evaluation.BinaryClassificationEvaluator = binEval_1582e0506993\n",
      "accuracygmm: Double = 0.718053118053118\n",
      "Area Under ROC Curve = 0.8033629327647744\n",
      "Accuracy = 0.718053118053118\n",
      "Precision = 0.9985458656165365\n",
      "Recall = 0.718053118053118\n",
      "F1 = 0.8346308073357539\n",
      "Test Error = 0.281946881946882\n"
     ]
    }
   ],
   "source": [
    "val evaluatorgmm1 = new MulticlassClassificationEvaluator().setLabelCol(\"label\").setPredictionCol(\"clusters\").setMetricName(\"accuracy\")\n",
    "val evaluatorgmm2 = new MulticlassClassificationEvaluator().setLabelCol(\"label\").setPredictionCol(\"clusters\").setMetricName(\"weightedPrecision\")\n",
    "val evaluatorgmm3 = new MulticlassClassificationEvaluator().setLabelCol(\"label\").setPredictionCol(\"clusters\").setMetricName(\"weightedRecall\")\n",
    "val evaluatorgmm4 = new MulticlassClassificationEvaluator().setLabelCol(\"label\").setPredictionCol(\"clusters\").setMetricName(\"f1\")\n",
    "val areaUnderROCgmm = new BinaryClassificationEvaluator().setRawPredictionCol(\"clusters\").setLabelCol(\"label\").setMetricName(\"areaUnderROC\")\n",
    "val accuracygmm = evaluatorgmm1.evaluate(predictionsgmm)\n",
    "println(\"Area Under ROC Curve = \" + areaUnderROCgmm.evaluate(predictionsgmm))\n",
    "println(\"Accuracy = \" + evaluatorgmm1.evaluate(predictionsgmm))\n",
    "println(\"Precision = \" + evaluatorgmm2.evaluate(predictionsgmm))\n",
    "println(\"Recall = \" + evaluatorgmm3.evaluate(predictionsgmm))\n",
    "println(\"F1 = \" + evaluatorgmm4.evaluate(predictionsgmm))\n",
    "println(\"Test Error = \" + (1.0 - accuracygmm))"
   ]
  },
  {
   "cell_type": "code",
   "execution_count": null,
   "metadata": {},
   "outputs": [],
   "source": []
  }
 ],
 "metadata": {
  "kernelspec": {
   "display_name": "Spark",
   "language": "",
   "name": "sparkkernel"
  },
  "language_info": {
   "codemirror_mode": "text/x-scala",
   "mimetype": "text/x-scala",
   "name": "scala",
   "pygments_lexer": "scala"
  }
 },
 "nbformat": 4,
 "nbformat_minor": 4
}
